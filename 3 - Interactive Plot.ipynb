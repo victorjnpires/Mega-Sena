{
 "cells": [
  {
   "cell_type": "markdown",
   "metadata": {},
   "source": [
    "# 3 - Interactive Plot\n",
    "\n",
    "## Victor Jose Novaes Pires\n",
    "\n",
    "### 2019-02-22\n",
    "\n",
    "[https://victorjnpires.github.io/](https://victorjnpires.github.io/)"
   ]
  },
  {
   "cell_type": "markdown",
   "metadata": {},
   "source": [
    "## Import dataframe"
   ]
  },
  {
   "cell_type": "code",
   "execution_count": 1,
   "metadata": {},
   "outputs": [
    {
     "data": {
      "text/html": [
       "<div>\n",
       "<style scoped>\n",
       "    .dataframe tbody tr th:only-of-type {\n",
       "        vertical-align: middle;\n",
       "    }\n",
       "\n",
       "    .dataframe tbody tr th {\n",
       "        vertical-align: top;\n",
       "    }\n",
       "\n",
       "    .dataframe thead th {\n",
       "        text-align: right;\n",
       "    }\n",
       "</style>\n",
       "<table border=\"1\" class=\"dataframe\">\n",
       "  <thead>\n",
       "    <tr style=\"text-align: right;\">\n",
       "      <th></th>\n",
       "      <th>Date</th>\n",
       "      <th>1st ball</th>\n",
       "      <th>2nd ball</th>\n",
       "      <th>3rd ball</th>\n",
       "      <th>4th ball</th>\n",
       "      <th>5th ball</th>\n",
       "      <th>6th ball</th>\n",
       "    </tr>\n",
       "    <tr>\n",
       "      <th>Drawing</th>\n",
       "      <th></th>\n",
       "      <th></th>\n",
       "      <th></th>\n",
       "      <th></th>\n",
       "      <th></th>\n",
       "      <th></th>\n",
       "      <th></th>\n",
       "    </tr>\n",
       "  </thead>\n",
       "  <tbody>\n",
       "    <tr>\n",
       "      <th>1</th>\n",
       "      <td>1996-03-11</td>\n",
       "      <td>41</td>\n",
       "      <td>5</td>\n",
       "      <td>4</td>\n",
       "      <td>52</td>\n",
       "      <td>30</td>\n",
       "      <td>33</td>\n",
       "    </tr>\n",
       "    <tr>\n",
       "      <th>2</th>\n",
       "      <td>1996-03-18</td>\n",
       "      <td>9</td>\n",
       "      <td>39</td>\n",
       "      <td>37</td>\n",
       "      <td>49</td>\n",
       "      <td>43</td>\n",
       "      <td>41</td>\n",
       "    </tr>\n",
       "    <tr>\n",
       "      <th>3</th>\n",
       "      <td>1996-03-25</td>\n",
       "      <td>36</td>\n",
       "      <td>30</td>\n",
       "      <td>10</td>\n",
       "      <td>11</td>\n",
       "      <td>29</td>\n",
       "      <td>47</td>\n",
       "    </tr>\n",
       "    <tr>\n",
       "      <th>4</th>\n",
       "      <td>1996-04-01</td>\n",
       "      <td>6</td>\n",
       "      <td>59</td>\n",
       "      <td>42</td>\n",
       "      <td>27</td>\n",
       "      <td>1</td>\n",
       "      <td>5</td>\n",
       "    </tr>\n",
       "    <tr>\n",
       "      <th>5</th>\n",
       "      <td>1996-04-08</td>\n",
       "      <td>1</td>\n",
       "      <td>19</td>\n",
       "      <td>46</td>\n",
       "      <td>6</td>\n",
       "      <td>16</td>\n",
       "      <td>2</td>\n",
       "    </tr>\n",
       "  </tbody>\n",
       "</table>\n",
       "</div>"
      ],
      "text/plain": [
       "              Date  1st ball  2nd ball  3rd ball  4th ball  5th ball  6th ball\n",
       "Drawing                                                                       \n",
       "1       1996-03-11        41         5         4        52        30        33\n",
       "2       1996-03-18         9        39        37        49        43        41\n",
       "3       1996-03-25        36        30        10        11        29        47\n",
       "4       1996-04-01         6        59        42        27         1         5\n",
       "5       1996-04-08         1        19        46         6        16         2"
      ]
     },
     "execution_count": 1,
     "metadata": {},
     "output_type": "execute_result"
    }
   ],
   "source": [
    "import pandas as pd\n",
    "df = pd.read_csv('megasena.csv', index_col=0, parse_dates=[1])\n",
    "df.head()"
   ]
  },
  {
   "cell_type": "code",
   "execution_count": 2,
   "metadata": {},
   "outputs": [],
   "source": [
    "%matplotlib inline\n",
    "\n",
    "import numpy as np\n",
    "from matplotlib import style\n",
    "import matplotlib.pyplot as plt\n",
    "\n",
    "blue   = [0.0000, 0.4470, 0.7410]\n",
    "green  = [0.4660, 0.6740, 0.1880]\n",
    "yellow = [0.9290, 0.6940, 0.1250]\n",
    "orange = [0.8500, 0.3250, 0.0980]\n",
    "black  = [0.2500, 0.2500, 0.2500]\n",
    "\n",
    "xs = [0, 61]\n",
    "x = [x for x in range(1, 61)]\n",
    "xticks = [1] + [x for x in range(5, 61, 5)]\n",
    "\n",
    "def _plot_statistics(title, y):\n",
    "    style.use('fivethirtyeight')\n",
    "    plt.figure(figsize=(16, 10))\n",
    "    plt.title(title)\n",
    "    plt.bar(x, y, color=[blue, green, yellow])\n",
    "    m = np.mean(y)\n",
    "    sd = np.std(y)\n",
    "    plt.plot(xs, [m + sd]*2, linewidth=1, color=black, label=\"Mean + SD\")\n",
    "    plt.plot(xs, [m]*2, linewidth=2, color=orange, label=\"Mean\")\n",
    "    plt.plot(xs, [m - sd]*2, linewidth=1, color=black, label=\"Mean + SD\")\n",
    "    plt.xlabel(\"Numbers\")\n",
    "    plt.ylabel(\"Total drawings\")\n",
    "    plt.xticks(xticks)\n",
    "    plt.legend(loc=4)\n",
    "    plt.show()\n",
    "    print(f\"Mean: {m:.2f}\\tStandard deviation: {sd:.2f}\")"
   ]
  },
  {
   "cell_type": "code",
   "execution_count": 3,
   "metadata": {},
   "outputs": [],
   "source": [
    "# To guarantee len(all_numbers) = 60\n",
    "zeros = pd.DataFrame(np.zeros(60))\n",
    "zeros.index = zeros.index + 1\n",
    "\n",
    "def plot_statistics(drawings_range):\n",
    "    lower, upper = drawings_range\n",
    "    if (lower < upper):\n",
    "        start_date = df.Date.iloc[lower].strftime('%Y-%m-%d')\n",
    "        end_date = df.Date.iloc[upper].strftime('%Y-%m-%d')\n",
    "        num_drawings = upper - lower + 1\n",
    "        chunk = df.iloc[lower:upper]\n",
    "        all_numbers = pd.concat([chunk[col] for col in df.iloc[:, 1:7].columns], axis=0)\n",
    "        all_numbers = zeros.add(all_numbers.value_counts().sort_index().to_frame(), fill_value=0)\n",
    "        title = f\"Statistics of {num_drawings} drawings, from {start_date} to {end_date}\"\n",
    "        _plot_statistics(title, all_numbers[0].values)"
   ]
  },
  {
   "cell_type": "code",
   "execution_count": 4,
   "metadata": {
    "scrolled": false
   },
   "outputs": [
    {
     "data": {
      "application/vnd.jupyter.widget-view+json": {
       "model_id": "373ce277491d44b2a8474a91b06d3264",
       "version_major": 2,
       "version_minor": 0
      },
      "text/plain": [
       "interactive(children=(IntRangeSlider(value=(2000, 2125), description='drawings_range', layout=Layout(width='95…"
      ]
     },
     "metadata": {},
     "output_type": "display_data"
    },
    {
     "data": {
      "text/plain": [
       "<function __main__.plot_statistics(drawings_range)>"
      ]
     },
     "execution_count": 4,
     "metadata": {},
     "output_type": "execute_result"
    }
   ],
   "source": [
    "from ipywidgets import widgets, Layout, interact\n",
    "\n",
    "drawings_range = widgets.IntRangeSlider(value=[2000, (len(df) - 1)],\n",
    "                                        min=1,\n",
    "                                        max=(len(df) - 1),\n",
    "                                        layout=Layout(width='95%'))\n",
    "\n",
    "interact(plot_statistics, drawings_range=drawings_range)"
   ]
  }
 ],
 "metadata": {
  "kernelspec": {
   "display_name": "Python 3",
   "language": "python",
   "name": "python3"
  },
  "language_info": {
   "codemirror_mode": {
    "name": "ipython",
    "version": 3
   },
   "file_extension": ".py",
   "mimetype": "text/x-python",
   "name": "python",
   "nbconvert_exporter": "python",
   "pygments_lexer": "ipython3",
   "version": "3.7.2"
  }
 },
 "nbformat": 4,
 "nbformat_minor": 2
}
