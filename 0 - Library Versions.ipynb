{
 "cells": [
  {
   "cell_type": "markdown",
   "metadata": {},
   "source": [
    "# 0 - Library Versions\n",
    "\n",
    "## Victor Jose Novaes Pires\n",
    "\n",
    "### 2019-04-15\n",
    "\n",
    "[https://victorjnpires.github.io/](https://victorjnpires.github.io/)"
   ]
  },
  {
   "cell_type": "code",
   "execution_count": 1,
   "metadata": {},
   "outputs": [
    {
     "name": "stdout",
     "output_type": "stream",
     "text": [
      "Python 3.7.3 (default, Mar 27 2019, 22:11:17) \n",
      "[GCC 7.3.0]\n"
     ]
    }
   ],
   "source": [
    "from sys import version\n",
    "\n",
    "print(\"Python\", version)"
   ]
  },
  {
   "cell_type": "code",
   "execution_count": 2,
   "metadata": {},
   "outputs": [
    {
     "name": "stdout",
     "output_type": "stream",
     "text": [
      "Jupyter version: 4.4.0\n"
     ]
    }
   ],
   "source": [
    "__version__ = !jupyter --version\n",
    "\n",
    "print(f\"Jupyter version: {__version__[0]}\")"
   ]
  },
  {
   "cell_type": "code",
   "execution_count": 3,
   "metadata": {},
   "outputs": [
    {
     "name": "stdout",
     "output_type": "stream",
     "text": [
      "LXML version: 4.3.3\n"
     ]
    }
   ],
   "source": [
    "from lxml.etree import __version__                                                \n",
    "\n",
    "\n",
    "print(f\"LXML version: {__version__}\")"
   ]
  },
  {
   "cell_type": "code",
   "execution_count": 4,
   "metadata": {},
   "outputs": [
    {
     "name": "stdout",
     "output_type": "stream",
     "text": [
      "Matplotlib version: 3.0.3\n"
     ]
    }
   ],
   "source": [
    "from matplotlib import __version__\n",
    "\n",
    "print(f\"Matplotlib version: {__version__}\")"
   ]
  },
  {
   "cell_type": "code",
   "execution_count": 5,
   "metadata": {},
   "outputs": [
    {
     "name": "stdout",
     "output_type": "stream",
     "text": [
      "NumPy version: 1.16.2\n"
     ]
    }
   ],
   "source": [
    "from numpy import __version__\n",
    "\n",
    "print(f\"NumPy version: {__version__}\")"
   ]
  },
  {
   "cell_type": "code",
   "execution_count": 6,
   "metadata": {},
   "outputs": [
    {
     "name": "stdout",
     "output_type": "stream",
     "text": [
      "Pandas version: 0.24.2\n"
     ]
    }
   ],
   "source": [
    "from pandas import __version__\n",
    "\n",
    "print(f\"Pandas version: {__version__}\")"
   ]
  },
  {
   "cell_type": "code",
   "execution_count": 7,
   "metadata": {},
   "outputs": [
    {
     "name": "stdout",
     "output_type": "stream",
     "text": [
      "Seaborn version: 0.9.0\n"
     ]
    }
   ],
   "source": [
    "from seaborn import __version__\n",
    "\n",
    "print(f\"Seaborn version: {__version__}\")"
   ]
  }
 ],
 "metadata": {
  "kernelspec": {
   "display_name": "Python 3",
   "language": "python",
   "name": "python3"
  },
  "language_info": {
   "codemirror_mode": {
    "name": "ipython",
    "version": 3
   },
   "file_extension": ".py",
   "mimetype": "text/x-python",
   "name": "python",
   "nbconvert_exporter": "python",
   "pygments_lexer": "ipython3",
   "version": "3.7.3"
  }
 },
 "nbformat": 4,
 "nbformat_minor": 2
}
